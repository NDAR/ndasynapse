{
 "cells": [
  {
   "cell_type": "code",
   "execution_count": 1,
   "metadata": {
    "collapsed": true
   },
   "outputs": [],
   "source": [
    "import os\n",
    "import json\n",
    "import synapseclient\n",
    "import pandas\n",
    "import requests\n",
    "import boto3\n",
    "import nda_aws_token_generator\n",
    "import logging\n",
    "\n",
    "pandas.options.display.max_rows = None\n",
    "pandas.options.display.max_columns = None\n",
    "pandas.options.display.max_colwidth = 1000\n",
    "\n",
    "logger = logging.getLogger(\"main\")\n",
    "logger.setLevel(logging.DEBUG)\n",
    "#create console handler and set level to debug\n",
    "ch = logging.StreamHandler()\n",
    "ch.setLevel(logging.DEBUG)\n",
    "\n",
    "# NDA Configuration\n",
    "REFERENCE_GUID = 'NDAR_INVRT663MBL'\n",
    "\n",
    "# This is an old genomics subject\n",
    "EXCLUDE_GENOMICS_SUBJECTS = ('92027', )\n",
    "# EXCLUDE_EXPERIMENTS = ('534', '535')\n",
    "EXCLUDE_EXPERIMENTS = ()\n",
    "\n",
    "nda_bucket_name = 'nda-bsmn'\n",
    "\n",
    "# Synapse configuration\n",
    "synapse_data_folder = 'syn7872188'\n",
    "synapse_data_folder_id = int(synapse_data_folder.replace('syn', ''))\n",
    "storage_location_id = '9209'\n",
    "\n",
    "def flattenjson( b, delim ):\n",
    "    val = {}\n",
    "    for i in b.keys():\n",
    "        if isinstance( b[i], dict ):\n",
    "            get = flattenjson( b[i], delim )\n",
    "            for j in get.keys():\n",
    "                val[ i + delim + j ] = get[j]\n",
    "        else:\n",
    "            val[i] = b[i]\n",
    "\n",
    "    return val"
   ]
  },
  {
   "cell_type": "code",
   "execution_count": 2,
   "metadata": {
    "collapsed": false
   },
   "outputs": [],
   "source": [
    "s3 = boto3.resource(\"s3\")\n",
    "obj = s3.Object('kdaily-lambda-creds.sagebase.org', 'ndalogs_config.json')\n",
    "\n",
    "config = json.loads(obj.get()['Body'].read())\n",
    "\n",
    "ndaconfig = config['nda']\n",
    "\n",
    "tokengenerator = nda_aws_token_generator.NDATokenGenerator()\n",
    "mytoken = tokengenerator.generate_token(ndaconfig['username'],\n",
    "                                        ndaconfig['password'])\n",
    "\n",
    "session = boto3.Session(\n",
    "    aws_access_key_id=mytoken.access_key,\n",
    "    aws_secret_access_key=mytoken.secret_key,\n",
    "    aws_session_token=mytoken.session\n",
    ")\n",
    "\n",
    "s3_nda = session.resource(\"s3\")"
   ]
  },
  {
   "cell_type": "code",
   "execution_count": 3,
   "metadata": {
    "collapsed": true
   },
   "outputs": [],
   "source": [
    "r = requests.get(\"https://ndar.nih.gov/api/guid/{}/data?short_name=genomics_sample03\".format(REFERENCE_GUID), \n",
    "                 auth=requests.auth.HTTPBasicAuth(ndaconfig['username'], \n",
    "                                                  ndaconfig['password']),\n",
    "                 headers={'Accept': 'application/json'})\n",
    "\n",
    "guid_data = json.loads(r.text)\n",
    "\n",
    "tmp = [{col['name']: col['value'] for col in row['dataElement']} \n",
    "       for row in guid_data['age'][0]['dataStructureRow']]\n",
    "    \n",
    "samples = pandas.io.json.json_normalize(tmp)"
   ]
  },
  {
   "cell_type": "code",
   "execution_count": 4,
   "metadata": {
    "collapsed": false
   },
   "outputs": [],
   "source": [
    "experiment_ids = samples.EXPERIMENT_ID.unique().tolist()"
   ]
  },
  {
   "cell_type": "code",
   "execution_count": 5,
   "metadata": {
    "collapsed": false
   },
   "outputs": [],
   "source": [
    "df = pandas.DataFrame()\n",
    "\n",
    "for experiment_id in experiment_ids:\n",
    "    r = requests.get(\"https://ndar.nih.gov/api/experiment/{}\".format(experiment_id), \n",
    "                     auth=requests.auth.HTTPBasicAuth(ndaconfig['username'], \n",
    "                                                      ndaconfig['password']),\n",
    "                     headers={'Accept': 'application/json'})\n",
    "\n",
    "    guid_data = json.loads(r.text)\n",
    "    guid_data_flat = flattenjson(guid_data[u'omicsOrFMRIOrEEG']['sections'], '.')\n",
    "\n",
    "    fix_keys = ['processing.processingKits.processingKit', \n",
    "               'additionalinformation.equipment.equipmentName',\n",
    "               'extraction.extractionKits.extractionKit',\n",
    "                'additionalinformation.analysisSoftware.software']\n",
    "\n",
    "    for key in fix_keys:\n",
    "        foo = guid_data_flat[key]\n",
    "        tmp = \",\".join(map(lambda x: \"%s %s\" % (x['vendorName'], x['value']), foo))\n",
    "        guid_data_flat[key] = tmp\n",
    "\n",
    "    foo = guid_data_flat['processing.processingProtocols.processingProtocol']\n",
    "    tmp = \",\".join(map(lambda x: \"%s: %s\" % (x['technologyName'], x['value']), foo))\n",
    "    guid_data_flat['processing.processingProtocols.processingProtocol'] = tmp\n",
    "\n",
    "    guid_data_flat['extraction.extractionProtocols.protocolName'] = \",\".join(\n",
    "        guid_data_flat['extraction.extractionProtocols.protocolName'])\n",
    "\n",
    "    guid_data_flat['experiment_id'] = experiment_id\n",
    "    \n",
    "    df = df.append(guid_data_flat, ignore_index=True)"
   ]
  },
  {
   "cell_type": "code",
   "execution_count": 6,
   "metadata": {
    "collapsed": false
   },
   "outputs": [],
   "source": [
    "keep_cols = {'additionalinformation.analysisSoftware.software': 'analysisSoftwareName',\n",
    "             'additionalinformation.equipment.equipmentName': 'equipmentName',\n",
    "             'experimentparameters.molecule.moleculeName': 'moleculeName',\n",
    "             'experimentparameters.platform.platformName': 'platformName',\n",
    "             'experimentparameters.platform.platformSubType': 'platformSubType',\n",
    "             'experimentparameters.platform.vendorName': 'vendorName',\n",
    "             'experimentparameters.technology.applicationName': 'applicationName',\n",
    "             'experimentparameters.technology.applicationSubType': 'applicationSubType',\n",
    "             'extraction.extractionProtocols.protocolName': 'extractionProtocolName',\n",
    "             'extraction.extractionKits.extractionKit': 'extractionKit',\n",
    "             'processing.processingKits.processingKit': 'processingKit'\n",
    "            }"
   ]
  },
  {
   "cell_type": "code",
   "execution_count": 7,
   "metadata": {
    "collapsed": true
   },
   "outputs": [],
   "source": [
    "df_change = df[keep_cols.keys()]"
   ]
  },
  {
   "cell_type": "code",
   "execution_count": 8,
   "metadata": {
    "collapsed": true
   },
   "outputs": [],
   "source": [
    "df_change = df_change.rename(columns=keep_cols, inplace=False)"
   ]
  },
  {
   "cell_type": "code",
   "execution_count": 9,
   "metadata": {
    "collapsed": true
   },
   "outputs": [],
   "source": [
    "df2 = pandas.concat([df, df_change], axis=1)"
   ]
  },
  {
   "cell_type": "code",
   "execution_count": 14,
   "metadata": {
    "collapsed": false
   },
   "outputs": [],
   "source": [
    "df2 = df2.rename(columns = lambda x: x.replace(\".\", \"_\"))\n"
   ]
  },
  {
   "cell_type": "code",
   "execution_count": 19,
   "metadata": {
    "collapsed": false
   },
   "outputs": [
    {
     "name": "stdout",
     "output_type": "stream",
     "text": [
      "Welcome, Kenneth Daily!\n",
      "\n"
     ]
    }
   ],
   "source": [
    "syn = synapseclient.login()\n",
    "schema = syn.store(synapseclient.Schema(\"Foo\", parent='syn5902559', columns=synapseclient.table.as_table_columns(df2)))\n"
   ]
  },
  {
   "cell_type": "code",
   "execution_count": null,
   "metadata": {
    "collapsed": true
   },
   "outputs": [],
   "source": []
  }
 ],
 "metadata": {
  "kernelspec": {
   "display_name": "Python 2",
   "language": "python",
   "name": "python2"
  },
  "language_info": {
   "codemirror_mode": {
    "name": "ipython",
    "version": 2
   },
   "file_extension": ".py",
   "mimetype": "text/x-python",
   "name": "python",
   "nbconvert_exporter": "python",
   "pygments_lexer": "ipython2",
   "version": "2.7.13"
  }
 },
 "nbformat": 4,
 "nbformat_minor": 0
}
